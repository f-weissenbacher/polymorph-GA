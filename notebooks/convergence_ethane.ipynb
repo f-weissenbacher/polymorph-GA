{
 "cells": [
  {
   "cell_type": "code",
   "execution_count": null,
   "metadata": {
    "pycharm": {
     "is_executing": false,
     "name": "#%%\n"
    }
   },
   "outputs": [],
   "source": [
    "import os\n",
    "from os.path import join\n",
    "import matplotlib.pyplot as plt\n",
    "from Utilities import deleteTempfiles\n",
    "from GeneticAlgorithm import GeneticAlgorithm\n",
    "from Polymorph import Polymorph\n",
    "from PolymorphFactory import PolymorphFactory\n",
    "from Mutators import FullRangeMutator, IncrementalMutator, MultiplicativeMutator\n",
    "\n",
    "molecules_dir = os.path.abspath(\"../molecules\")\n",
    "testing_dir = os.path.abspath(\"../testing\")\n",
    "structure_filepath = join(molecules_dir, \"ethane.xyz\")\n",
    "\n",
    "os.chdir(testing_dir)"
   ]
  },
  {
   "cell_type": "code",
   "execution_count": null,
   "metadata": {
    "pycharm": {
     "name": "#%%\n"
    }
   },
   "outputs": [],
   "source": [
    "mutation_rate = 0.05\n",
    "crossover_rate = 0.01\n",
    "\n",
    "#bond_mutator = MultiplicativeMutator('bond',[0.8,1.2],[0.8,1.2], False, mutation_rate)\n",
    "\n",
    "bond_mutator = None\n",
    "#angle_mutator = IncrementalMutator('angle', )\n",
    "\n",
    "factory = PolymorphFactory(structure_filepath, mutation_rate, crossover_rate)"
   ]
  },
  {
   "cell_type": "code",
   "execution_count": null,
   "metadata": {
    "pycharm": {
     "name": "#%%\n"
    }
   },
   "outputs": [],
   "source": [
    "factory.freezeBonds('all')\n",
    "#factory.freezeAngles('all')\n",
    "#factory.freezeDihedrals('all')"
   ]
  },
  {
   "cell_type": "code",
   "execution_count": null,
   "metadata": {
    "pycharm": {
     "name": "#%%\n"
    }
   },
   "outputs": [],
   "source": [
    "ga = GeneticAlgorithm(factory, generation_size=15, discard_mode='least-fittest',\n",
    "                      fitness_property=Polymorph.TOTAL_ENERGY, fitness_goal='minimize',\n",
    "                      matchmaking_mode='roulette')"
   ]
  },
  {
   "cell_type": "code",
   "execution_count": null,
   "metadata": {
    "pycharm": {
     "name": "#%%\n"
    }
   },
   "outputs": [],
   "source": [
    "ga.fillGeneration()"
   ]
  },
  {
   "cell_type": "code",
   "execution_count": null,
   "metadata": {},
   "outputs": [],
   "source": [
    "ga.current_generation"
   ]
  },
  {
   "cell_type": "code",
   "execution_count": null,
   "metadata": {
    "pycharm": {
     "name": "#%%\n"
    }
   },
   "outputs": [],
   "source": [
    "ga.renderGeneration()"
   ]
  },
  {
   "cell_type": "code",
   "execution_count": null,
   "metadata": {
    "pycharm": {
     "name": "#%%\n"
    }
   },
   "outputs": [],
   "source": [
    "ga.doGenerationStep()"
   ]
  },
  {
   "cell_type": "code",
   "execution_count": null,
   "metadata": {},
   "outputs": [],
   "source": [
    "ga.renderGeneration()"
   ]
  },
  {
   "cell_type": "code",
   "execution_count": null,
   "metadata": {
    "pycharm": {
     "name": "#%%\n"
    }
   },
   "outputs": [],
   "source": [
    "ga.doMultipleGenerationSteps(30, verbose=False)"
   ]
  },
  {
   "cell_type": "code",
   "execution_count": null,
   "metadata": {
    "pycharm": {
     "name": "#%%\n"
    }
   },
   "outputs": [],
   "source": [
    "ga.plotTimeline(Polymorph.TOTAL_ENERGY)"
   ]
  },
  {
   "cell_type": "code",
   "execution_count": null,
   "metadata": {
    "pycharm": {
     "name": "#%%\n"
    }
   },
   "outputs": [],
   "source": [
    "ga.analyzeTimeline(yscale='linear')"
   ]
  },
  {
   "cell_type": "code",
   "execution_count": null,
   "metadata": {
    "pycharm": {
     "name": "#%%\n"
    }
   },
   "outputs": [],
   "source": [
    "deleteTempfiles(testing_dir)"
   ]
  }
 ],
 "metadata": {
  "kernelspec": {
   "display_name": "Python 3",
   "language": "python",
   "name": "python3"
  },
  "language_info": {
   "codemirror_mode": {
    "name": "ipython",
    "version": 3
   },
   "file_extension": ".py",
   "mimetype": "text/x-python",
   "name": "python",
   "nbconvert_exporter": "python",
   "pygments_lexer": "ipython3",
   "version": "3.7.5"
  },
  "pycharm": {
   "stem_cell": {
    "cell_type": "raw",
    "metadata": {
     "collapsed": false
    },
    "source": []
   }
  }
 },
 "nbformat": 4,
 "nbformat_minor": 1
}
