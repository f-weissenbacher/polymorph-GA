{
 "cells": [
  {
   "cell_type": "code",
   "execution_count": 1,
   "metadata": {
    "pycharm": {
     "is_executing": false
    }
   },
   "outputs": [],
   "source": [
    "import imolecule\n",
    "from imolecule import format_converter\n",
    "from Utilities import checkAtomDistances\n",
    "from Polymorph import PolymorphFactory, Polymorph\n",
    "\n",
    "import pybel\n",
    "pybel.ipython_3d = True\n",
    "\n",
    "from IPython.display import display, HTML"
   ]
  },
  {
   "cell_type": "code",
   "execution_count": 2,
   "metadata": {
    "pycharm": {
     "is_executing": false,
     "name": "#%%\n"
    }
   },
   "outputs": [
    {
     "name": "stdout",
     "text": [
      "  atom       b      bond    a       angle    d    dihedral\n0    C  origin  0.000000  e_z    0.000000  e_x    0.000000\n2    F       0  1.070002  e_z  128.271016  e_x -115.124272\n3    F       0  1.069994    2  109.471492  e_x -120.000629\n4    F       0  1.070006    2  109.471215    3 -119.999892\n1    C       0  1.678900    3  109.471524    2 -120.000535\n5    H       1  1.070006    0  109.470723    3   60.000389\n6    H       1  1.069994    5  109.471000    0 -119.999932\n7    H       1  1.069995    5  109.471453    6 -119.999883\n============================================================\n"
     ],
     "output_type": "stream"
    }
   ],
   "source": [
    "factory = PolymorphFactory(\"CF3-CH3.xyz\")\n",
    "factory.freezeBonds('all')\n",
    "factory.setupDefaultMutators()\n",
    "\n",
    "print(factory.zmat_base)\n",
    "print(\"=\" * 60)\n",
    "\n",
    "#structure_valid = checkAtomDistances(factory.zmat_base)\n",
    "\n",
    "polymorphs = list()\n",
    "json_objects = list()\n",
    "for k in range(10):\n",
    "    p = factory.generateRandomPolymorph(n_max_restarts=1)\n",
    "    if p is not None:\n",
    "        polymorphs.append(p)       \n",
    "        "
   ]
  },
  {
   "cell_type": "code",
   "execution_count": 3,
   "metadata": {
    "pycharm": {
     "is_executing": false,
     "name": "#%%\n"
    }
   },
   "outputs": [
    {
     "data": {
      "text/plain": "<IPython.core.display.HTML object>",
      "text/html": "<div class=\"row\"><div class=\"col-xs-6 col-sm-3\"><div id=\"molecule_5980b3d5-00a6-4e2f-b73f-585763b6e9bc\"></div>\n           <script type=\"text/javascript\">\n           require.config({baseUrl: '/',\n                           paths: {imolecule: ['nbextensions/imolecule.min', 'https://rawgit.com/patrickfuller/imolecule/master/imolecule/js/build/imolecule.min']}});\n           require(['imolecule'], function () {\n               var $d = $('#molecule_5980b3d5-00a6-4e2f-b73f-585763b6e9bc');\n               $d.width(200); $d.height(150);\n               $d.imolecule = jQuery.extend({}, imolecule);\n               $d.imolecule.create($d, {drawingType: 'ball and stick',\n                                        cameraType: 'perspective',\n                                        shader: 'basic',\n                                        showSave: false});\n               $d.imolecule.addElements({});\n               $d.imolecule.draw({\"atoms\":[{\"charge\":0.48807120344021127,\"element\":\"C\",\"location\":[0.369566276801735,0.6683113420254124,-0.3990270264544061]},{\"charge\":-0.16269040114673705,\"element\":\"F\",\"location\":[1.4395682768017348,0.6683113420254124,-0.3990270264544061]},{\"charge\":-0.16269040114673705,\"element\":\"F\",\"location\":[0.09607584413939524,0.6683113420254125,-1.4334786412137268]},{\"charge\":-0.16269040114673705,\"element\":\"F\",\"location\":[0.01289770934199419,1.5419685637541147,0.10537700995242266]},{\"charge\":-0.05305690507293987,\"element\":\"C\",\"location\":[-0.07811392206903939,-0.6550272551329243,0.5321349394838675]},{\"element\":\"H\",\"location\":[-0.5763076734720673,-1.2744492977589217,1.248397572327446]},{\"charge\":0.02652845253646993,\"element\":\"H\",\"location\":[-0.20533702680473248,-0.7042481484161637,-0.5291278674220423]},{\"charge\":0.02652845253646993,\"element\":\"H\",\"location\":[-1.0583494847390202,-0.9131778885223424,0.8747510397808453]}],\"bonds\":[{\"atoms\":[2,0],\"order\":1},{\"atoms\":[6,4],\"order\":1},{\"atoms\":[0,1],\"order\":1},{\"atoms\":[0,3],\"order\":1},{\"atoms\":[4,7],\"order\":1}],\"formula\":\"C2H3F3\",\"molecular_weight\":84.04042960000001,\"units\":{\"molecular_weight\":\"g / mol\"}});\n\n               $d.resizable({\n                   aspectRatio: 200 / 150,\n                   resize: function (evt, ui) {\n                       $d.imolecule.renderer.setSize(ui.size.width,\n                                                     ui.size.height);\n                   }\n               });\n           });\n           </script></div><div class=\"col-xs-6 col-sm-3\"><div id=\"molecule_800c8a1f-dee8-473e-9bb2-a1bb57010a58\"></div>\n           <script type=\"text/javascript\">\n           require.config({baseUrl: '/',\n                           paths: {imolecule: ['nbextensions/imolecule.min', 'https://rawgit.com/patrickfuller/imolecule/master/imolecule/js/build/imolecule.min']}});\n           require(['imolecule'], function () {\n               var $d = $('#molecule_800c8a1f-dee8-473e-9bb2-a1bb57010a58');\n               $d.width(200); $d.height(150);\n               $d.imolecule = jQuery.extend({}, imolecule);\n               $d.imolecule.create($d, {drawingType: 'ball and stick',\n                                        cameraType: 'perspective',\n                                        shader: 'basic',\n                                        showSave: false});\n               $d.imolecule.addElements({});\n               $d.imolecule.draw({\"atoms\":[{\"charge\":-0.009073986500624596,\"element\":\"C\",\"location\":[-0.6175120054096976,0.2549872949797083,-0.4401626327768857]},{\"charge\":-0.2669332100093974,\"element\":\"F\",\"location\":[0.45248999459030226,0.2549872949797083,-0.4401626327768857]},{\"element\":\"F\",\"location\":[-1.60781858340939,0.2549872949797083,-0.84535399695749]},{\"element\":\"F\",\"location\":[-0.9741805728694384,-0.43078823099912533,-1.1800357982523413]},{\"charge\":-0.04518782709405348,\"element\":\"C\",\"location\":[0.25471230932733213,-0.5386448879651526,0.7548595063384087]},{\"charge\":0.2669332100093974,\"element\":\"H\",\"location\":[1.087403649052146,-0.3861198630202062,0.10043297146314978]},{\"charge\":0.027130906797339045,\"element\":\"H\",\"location\":[0.6518090699378778,0.44803227230254544,0.6379428516023005]},{\"charge\":0.027130906797339045,\"element\":\"H\",\"location\":[0.7530961387808677,0.142558824742814,1.4124797313597437]}],\"bonds\":[{\"atoms\":[3,2],\"order\":1},{\"atoms\":[0,4],\"order\":1},{\"atoms\":[1,5],\"order\":1},{\"atoms\":[6,4],\"order\":1},{\"atoms\":[4,7],\"order\":1}],\"formula\":\"C2H3F3\",\"molecular_weight\":84.04042960000001,\"units\":{\"molecular_weight\":\"g / mol\"}});\n\n               $d.resizable({\n                   aspectRatio: 200 / 150,\n                   resize: function (evt, ui) {\n                       $d.imolecule.renderer.setSize(ui.size.width,\n                                                     ui.size.height);\n                   }\n               });\n           });\n           </script></div><div class=\"col-xs-6 col-sm-3\"><div id=\"molecule_df3d0ef3-9795-4172-8586-e46e6f8ca526\"></div>\n           <script type=\"text/javascript\">\n           require.config({baseUrl: '/',\n                           paths: {imolecule: ['nbextensions/imolecule.min', 'https://rawgit.com/patrickfuller/imolecule/master/imolecule/js/build/imolecule.min']}});\n           require(['imolecule'], function () {\n               var $d = $('#molecule_df3d0ef3-9795-4172-8586-e46e6f8ca526');\n               $d.width(200); $d.height(150);\n               $d.imolecule = jQuery.extend({}, imolecule);\n               $d.imolecule.create($d, {drawingType: 'ball and stick',\n                                        cameraType: 'perspective',\n                                        shader: 'basic',\n                                        showSave: false});\n               $d.imolecule.addElements({});\n               $d.imolecule.draw({\"atoms\":[{\"charge\":0.38746899824848524,\"element\":\"C\",\"location\":[0.35004999019478655,0.5976205991148119,-0.4992590430586148]},{\"charge\":-0.1710767339076353,\"element\":\"F\",\"location\":[1.4200519901947866,0.5976205991148119,-0.4992590430586148]},{\"charge\":-0.1710767339076353,\"element\":\"F\",\"location\":[-0.00661945436832706,0.597620599114812,-1.5080573714429553]},{\"charge\":-0.1710767339076353,\"element\":\"F\",\"location\":[0.19403770489980765,1.514371156462848,0.030024833963067654]},{\"charge\":0.031034201127653736,\"element\":\"C\",\"location\":[-0.20958747207580875,-0.7731855543248877,0.292196331877448]},{\"charge\":0.03157566744892231,\"element\":\"H\",\"location\":[-0.261502640359243,-0.5817363184115957,1.3436547691950245]},{\"charge\":0.03157566744892231,\"element\":\"H\",\"location\":[-1.1006556606647262,-0.41539810686342304,-0.17989771146548061]},{\"charge\":0.03157566744892231,\"element\":\"H\",\"location\":[-0.3857744578212756,-1.536912974207377,1.0205972339901255]}],\"bonds\":[{\"atoms\":[2,0],\"order\":1},{\"atoms\":[0,1],\"order\":1},{\"atoms\":[0,3],\"order\":1},{\"atoms\":[0,4],\"order\":1},{\"atoms\":[6,4],\"order\":1},{\"atoms\":[4,7],\"order\":1},{\"atoms\":[4,5],\"order\":1}],\"formula\":\"C2H3F3\",\"molecular_weight\":84.04042960000001,\"units\":{\"molecular_weight\":\"g / mol\"}});\n\n               $d.resizable({\n                   aspectRatio: 200 / 150,\n                   resize: function (evt, ui) {\n                       $d.imolecule.renderer.setSize(ui.size.width,\n                                                     ui.size.height);\n                   }\n               });\n           });\n           </script></div><div class=\"col-xs-6 col-sm-3\"><div id=\"molecule_86c14a3b-7848-4922-af82-c03e7cb6010a\"></div>\n           <script type=\"text/javascript\">\n           require.config({baseUrl: '/',\n                           paths: {imolecule: ['nbextensions/imolecule.min', 'https://rawgit.com/patrickfuller/imolecule/master/imolecule/js/build/imolecule.min']}});\n           require(['imolecule'], function () {\n               var $d = $('#molecule_86c14a3b-7848-4922-af82-c03e7cb6010a');\n               $d.width(200); $d.height(150);\n               $d.imolecule = jQuery.extend({}, imolecule);\n               $d.imolecule.create($d, {drawingType: 'ball and stick',\n                                        cameraType: 'perspective',\n                                        shader: 'basic',\n                                        showSave: false});\n               $d.imolecule.addElements({});\n               $d.imolecule.draw({\"atoms\":[{\"charge\":0.23117882038374535,\"element\":\"C\",\"location\":[0.4954066689941289,-0.6664131786760223,0.3049532559853214]},{\"charge\":-0.23117882038374535,\"element\":\"F\",\"location\":[1.5654086689941287,-0.6664131786760223,0.3049532559853214]},{\"charge\":-0.2669332100093974,\"element\":\"F\",\"location\":[0.13873722443101527,-0.6664131786760222,-0.7038450723990191]},{\"element\":\"F\",\"location\":[-0.5735064729403304,-0.6802686004061853,0.2586330409115343]},{\"charge\":-0.05305690507293987,\"element\":\"C\",\"location\":[-0.5415592540698325,0.6470560423113334,0.17002553487888605]},{\"charge\":0.02652845253646993,\"element\":\"H\",\"location\":[-1.1433719587561826,1.2796768308291593,-0.44846071917142394]},{\"charge\":0.2669332100093974,\"element\":\"H\",\"location\":[-0.3584565849444106,-0.2773946222932859,-0.33668102843683023]},{\"charge\":0.02652845253646993,\"element\":\"H\",\"location\":[0.4173417082914833,1.0301698855870458,0.4504217322462102]}],\"bonds\":[{\"atoms\":[2,6],\"order\":1},{\"atoms\":[5,4],\"order\":1},{\"atoms\":[4,7],\"order\":1},{\"atoms\":[0,1],\"order\":1}],\"formula\":\"C2H3F3\",\"molecular_weight\":84.04042960000001,\"units\":{\"molecular_weight\":\"g / mol\"}});\n\n               $d.resizable({\n                   aspectRatio: 200 / 150,\n                   resize: function (evt, ui) {\n                       $d.imolecule.renderer.setSize(ui.size.width,\n                                                     ui.size.height);\n                   }\n               });\n           });\n           </script></div><div class=\"col-xs-6 col-sm-3\"><div id=\"molecule_bc48c743-9a54-440b-9eb0-1ddde7c39ece\"></div>\n           <script type=\"text/javascript\">\n           require.config({baseUrl: '/',\n                           paths: {imolecule: ['nbextensions/imolecule.min', 'https://rawgit.com/patrickfuller/imolecule/master/imolecule/js/build/imolecule.min']}});\n           require(['imolecule'], function () {\n               var $d = $('#molecule_bc48c743-9a54-440b-9eb0-1ddde7c39ece');\n               $d.width(200); $d.height(150);\n               $d.imolecule = jQuery.extend({}, imolecule);\n               $d.imolecule.create($d, {drawingType: 'ball and stick',\n                                        cameraType: 'perspective',\n                                        shader: 'basic',\n                                        showSave: false});\n               $d.imolecule.addElements({});\n               $d.imolecule.draw({\"atoms\":[{\"charge\":0.29840015827992916,\"element\":\"C\",\"location\":[-0.10584196494517287,0.6283555496486568,-0.15215555944945794]},{\"element\":\"F\",\"location\":[0.9641600350548271,0.6283555496486568,-0.15215555944945794]},{\"charge\":-0.20309152984100423,\"element\":\"F\",\"location\":[-1.1739489435943924,0.6283555496486568,-0.21567439285212306]},{\"charge\":-0.20309152984100423,\"element\":\"F\",\"location\":[-0.4625105324049137,1.5020127713773592,0.3522484769573708]},{\"charge\":-0.05305690507293987,\"element\":\"C\",\"location\":[0.4394641791934665,-0.9384704851502059,0.1055314519444481]},{\"charge\":0.10778290140207937,\"element\":\"H\",\"location\":[0.2989460969981347,0.06468334809537413,0.45027758383985406]},{\"charge\":0.02652845253646993,\"element\":\"H\",\"location\":[-0.5818025232638608,-0.6396118308128,-0.00665137747062608]},{\"charge\":0.02652845253646993,\"element\":\"H\",\"location\":[0.6215336529619115,-1.873680452455698,-0.38142062352000805]}],\"bonds\":[{\"atoms\":[7,4],\"order\":1},{\"atoms\":[2,0],\"order\":1},{\"atoms\":[0,3],\"order\":1},{\"atoms\":[0,5],\"order\":1},{\"atoms\":[6,4],\"order\":1}],\"formula\":\"C2H3F3\",\"molecular_weight\":84.04042960000001,\"units\":{\"molecular_weight\":\"g / mol\"}});\n\n               $d.resizable({\n                   aspectRatio: 200 / 150,\n                   resize: function (evt, ui) {\n                       $d.imolecule.renderer.setSize(ui.size.width,\n                                                     ui.size.height);\n                   }\n               });\n           });\n           </script></div><div class=\"col-xs-6 col-sm-3\"><div id=\"molecule_191e3f17-0e42-46dc-9510-ac3cbb3ffde4\"></div>\n           <script type=\"text/javascript\">\n           require.config({baseUrl: '/',\n                           paths: {imolecule: ['nbextensions/imolecule.min', 'https://rawgit.com/patrickfuller/imolecule/master/imolecule/js/build/imolecule.min']}});\n           require(['imolecule'], function () {\n               var $d = $('#molecule_191e3f17-0e42-46dc-9510-ac3cbb3ffde4');\n               $d.width(200); $d.height(150);\n               $d.imolecule = jQuery.extend({}, imolecule);\n               $d.imolecule.create($d, {drawingType: 'ball and stick',\n                                        cameraType: 'perspective',\n                                        shader: 'basic',\n                                        showSave: false});\n               $d.imolecule.addElements({});\n               $d.imolecule.draw({\"atoms\":[{\"charge\":0.38746899824848524,\"element\":\"C\",\"location\":[0.6358674635370972,0.2845065482815495,-0.5797797205080596]},{\"charge\":-0.1710767339076353,\"element\":\"F\",\"location\":[1.705869463537097,0.2845065482815495,-0.5797797205080596]},{\"charge\":-0.1710767339076353,\"element\":\"F\",\"location\":[1.0915174721105012,0.28450654828154953,-1.5479068969281087]},{\"charge\":-0.1710767339076353,\"element\":\"F\",\"location\":[0.5591461044497354,0.3576443258676929,0.48496322433146755]},{\"charge\":0.031034201127653736,\"element\":\"C\",\"location\":[-0.5242427858875388,-0.2518070181769257,0.5088970807568983]},{\"charge\":0.03157566744892231,\"element\":\"H\",\"location\":[-0.7761665236543515,-0.0882738577277637,1.53588499491125]},{\"charge\":0.03157566744892231,\"element\":\"H\",\"location\":[-1.4107246447029254,0.06144399530206407,-0.0018972776512596878]},{\"charge\":0.03157566744892231,\"element\":\"H\",\"location\":[-1.2812665493896147,-0.932527090109716,0.17961831559587138]}],\"bonds\":[{\"atoms\":[2,0],\"order\":1},{\"atoms\":[0,1],\"order\":1},{\"atoms\":[0,3],\"order\":1},{\"atoms\":[0,4],\"order\":1},{\"atoms\":[6,4],\"order\":1},{\"atoms\":[7,4],\"order\":1},{\"atoms\":[4,5],\"order\":1}],\"formula\":\"C2H3F3\",\"molecular_weight\":84.04042960000001,\"units\":{\"molecular_weight\":\"g / mol\"}});\n\n               $d.resizable({\n                   aspectRatio: 200 / 150,\n                   resize: function (evt, ui) {\n                       $d.imolecule.renderer.setSize(ui.size.width,\n                                                     ui.size.height);\n                   }\n               });\n           });\n           </script></div><div class=\"col-xs-6 col-sm-3\"><div id=\"molecule_fcdcd55d-a11d-4ca3-b725-159d8f7de537\"></div>\n           <script type=\"text/javascript\">\n           require.config({baseUrl: '/',\n                           paths: {imolecule: ['nbextensions/imolecule.min', 'https://rawgit.com/patrickfuller/imolecule/master/imolecule/js/build/imolecule.min']}});\n           require(['imolecule'], function () {\n               var $d = $('#molecule_fcdcd55d-a11d-4ca3-b725-159d8f7de537');\n               $d.width(200); $d.height(150);\n               $d.imolecule = jQuery.extend({}, imolecule);\n               $d.imolecule.create($d, {drawingType: 'ball and stick',\n                                        cameraType: 'perspective',\n                                        shader: 'basic',\n                                        showSave: false});\n               $d.imolecule.addElements({});\n               $d.imolecule.draw({\"atoms\":[{\"charge\":0.48807120344021127,\"element\":\"C\",\"location\":[-0.18907160505020354,0.7659328376837263,0.01407090039495533]},{\"charge\":-0.16269040114673705,\"element\":\"F\",\"location\":[0.8809303949497964,0.7659328376837263,0.01407090039495533]},{\"charge\":-0.16269040114673705,\"element\":\"F\",\"location\":[0.1453192796824886,0.7659328376837264,-1.0023295601734603]},{\"charge\":-0.16269040114673705,\"element\":\"F\",\"location\":[-0.25987168740682615,1.4927329573068535,0.7961589865400541]},{\"charge\":-0.05305690507293987,\"element\":\"C\",\"location\":[-0.3119519118197417,-0.9025217393218209,-0.1268722252886511]},{\"element\":\"H\",\"location\":[0.4151220605701778,-0.7214492183769631,0.6369923051536366]},{\"charge\":0.02652845253646993,\"element\":\"H\",\"location\":[-1.2167428597956316,-0.8317752646705837,-0.6936485804952813]},{\"charge\":0.02652845253646993,\"element\":\"H\",\"location\":[0.5362663288699401,-1.3347852479886653,0.36155727347379124]}],\"bonds\":[{\"atoms\":[2,0],\"order\":1},{\"atoms\":[6,4],\"order\":1},{\"atoms\":[4,7],\"order\":1},{\"atoms\":[0,1],\"order\":1},{\"atoms\":[0,3],\"order\":1}],\"formula\":\"C2H3F3\",\"molecular_weight\":84.04042960000001,\"units\":{\"molecular_weight\":\"g / mol\"}});\n\n               $d.resizable({\n                   aspectRatio: 200 / 150,\n                   resize: function (evt, ui) {\n                       $d.imolecule.renderer.setSize(ui.size.width,\n                                                     ui.size.height);\n                   }\n               });\n           });\n           </script></div><div class=\"col-xs-6 col-sm-3\"><div id=\"molecule_045c534a-10ef-4938-b128-d58d6d9d8f20\"></div>\n           <script type=\"text/javascript\">\n           require.config({baseUrl: '/',\n                           paths: {imolecule: ['nbextensions/imolecule.min', 'https://rawgit.com/patrickfuller/imolecule/master/imolecule/js/build/imolecule.min']}});\n           require(['imolecule'], function () {\n               var $d = $('#molecule_045c534a-10ef-4938-b128-d58d6d9d8f20');\n               $d.width(200); $d.height(150);\n               $d.imolecule = jQuery.extend({}, imolecule);\n               $d.imolecule.create($d, {drawingType: 'ball and stick',\n                                        cameraType: 'perspective',\n                                        shader: 'basic',\n                                        showSave: false});\n               $d.imolecule.addElements({});\n               $d.imolecule.draw({\"atoms\":[{\"charge\":0.23117882038374535,\"element\":\"C\",\"location\":[-0.49542077443660826,-0.0854419732808967,-0.4785179820976707]},{\"charge\":-0.2669332100093974,\"element\":\"F\",\"location\":[0.5745812255633916,-0.0854419732808967,-0.4785179820976707]},{\"charge\":-0.23117882038374535,\"element\":\"F\",\"location\":[-0.8520902189997219,-0.08544197328089664,-1.487316310482011]},{\"element\":\"F\",\"location\":[-0.8520893418963491,0.9182909096161396,-0.5796153253536686]},{\"charge\":-0.05305690507293987,\"element\":\"C\",\"location\":[0.36643550818318826,-0.2587947272559957,0.9518168670890622]},{\"charge\":0.02652845253646993,\"element\":\"H\",\"location\":[0.2359116443252518,-1.309683843813016,0.7984922907759345]},{\"charge\":0.02652845253646993,\"element\":\"H\",\"location\":[0.8703552612497331,0.6429421866633009,1.230783855423983]},{\"charge\":0.2669332100093974,\"element\":\"H\",\"location\":[0.15231669601111475,0.2635713946322615,0.04287458674204103]}],\"bonds\":[{\"atoms\":[2,0],\"order\":1},{\"atoms\":[1,7],\"order\":1},{\"atoms\":[5,4],\"order\":1},{\"atoms\":[4,6],\"order\":1}],\"formula\":\"C2H3F3\",\"molecular_weight\":84.04042960000001,\"units\":{\"molecular_weight\":\"g / mol\"}});\n\n               $d.resizable({\n                   aspectRatio: 200 / 150,\n                   resize: function (evt, ui) {\n                       $d.imolecule.renderer.setSize(ui.size.width,\n                                                     ui.size.height);\n                   }\n               });\n           });\n           </script></div><div class=\"col-xs-6 col-sm-3\"><div id=\"molecule_63f34332-425c-4b02-ba82-7a47504501ad\"></div>\n           <script type=\"text/javascript\">\n           require.config({baseUrl: '/',\n                           paths: {imolecule: ['nbextensions/imolecule.min', 'https://rawgit.com/patrickfuller/imolecule/master/imolecule/js/build/imolecule.min']}});\n           require(['imolecule'], function () {\n               var $d = $('#molecule_63f34332-425c-4b02-ba82-7a47504501ad');\n               $d.width(200); $d.height(150);\n               $d.imolecule = jQuery.extend({}, imolecule);\n               $d.imolecule.create($d, {drawingType: 'ball and stick',\n                                        cameraType: 'perspective',\n                                        shader: 'basic',\n                                        showSave: false});\n               $d.imolecule.addElements({});\n               $d.imolecule.draw({\"atoms\":[{\"charge\":0.23117882038374535,\"element\":\"C\",\"location\":[-0.9191849243789125,0.2718565688617445,0.27181721335611847]},{\"element\":\"F\",\"location\":[0.15081707562108737,0.2718565688617445,0.27181721335611847]},{\"charge\":-0.23117882038374535,\"element\":\"F\",\"location\":[-1.1402039223877685,0.27185656886174453,-0.7751010081660599]},{\"element\":\"F\",\"location\":[-0.3648049177811745,0.7167792251201742,1.0715793519127241]},{\"charge\":-0.05305690507293987,\"element\":\"C\",\"location\":[0.31992669590015366,-0.2860794556886125,-0.7140909948449956]},{\"element\":\"H\",\"location\":[0.762874773731004,-0.7907042113642622,0.11901385830450226]},{\"charge\":0.02652845253646993,\"element\":\"H\",\"location\":[1.1402331264312018,0.3404226984115192,-0.4321697807207206]},{\"charge\":0.02652845253646993,\"element\":\"H\",\"location\":[0.05034209286440916,-0.7959879630640523,0.18713414680231294]}],\"bonds\":[{\"atoms\":[2,0],\"order\":1},{\"atoms\":[4,6],\"order\":1},{\"atoms\":[4,7],\"order\":1},{\"atoms\":[1,3],\"order\":1}],\"formula\":\"C2H3F3\",\"molecular_weight\":84.04042960000001,\"units\":{\"molecular_weight\":\"g / mol\"}});\n\n               $d.resizable({\n                   aspectRatio: 200 / 150,\n                   resize: function (evt, ui) {\n                       $d.imolecule.renderer.setSize(ui.size.width,\n                                                     ui.size.height);\n                   }\n               });\n           });\n           </script></div><div class=\"col-xs-6 col-sm-3\"><div id=\"molecule_c0448e68-c4df-4fab-82b4-819cc2cb74a0\"></div>\n           <script type=\"text/javascript\">\n           require.config({baseUrl: '/',\n                           paths: {imolecule: ['nbextensions/imolecule.min', 'https://rawgit.com/patrickfuller/imolecule/master/imolecule/js/build/imolecule.min']}});\n           require(['imolecule'], function () {\n               var $d = $('#molecule_c0448e68-c4df-4fab-82b4-819cc2cb74a0');\n               $d.width(200); $d.height(150);\n               $d.imolecule = jQuery.extend({}, imolecule);\n               $d.imolecule.create($d, {drawingType: 'ball and stick',\n                                        cameraType: 'perspective',\n                                        shader: 'basic',\n                                        showSave: false});\n               $d.imolecule.addElements({});\n               $d.imolecule.draw({\"atoms\":[{\"charge\":0.48807120344021127,\"element\":\"C\",\"location\":[0.45380578830271767,-0.049854470772865145,0.7626007335384237]},{\"charge\":-0.16269040114673705,\"element\":\"F\",\"location\":[1.5238077883027175,-0.049854470772865145,0.7626007335384237]},{\"charge\":-0.16269040114673705,\"element\":\"F\",\"location\":[0.5010534080589708,-0.04985447077286508,-0.30634960322347093]},{\"charge\":-0.16269040114673705,\"element\":\"F\",\"location\":[0.09713722084297688,0.8238027509558372,1.2670047699452525]},{\"charge\":-0.06814417567932447,\"element\":\"C\",\"location\":[-0.5651882414341786,-0.26738433338466283,-0.55384794994022]},{\"charge\":0.022714725226441496,\"element\":\"H\",\"location\":[-0.0953620598599545,0.11551606552493171,-1.4356435519128414]},{\"charge\":0.022714725226441496,\"element\":\"H\",\"location\":[-0.6030297978797908,0.4992175991401053,0.19165634494416528]},{\"charge\":0.022714725226441496,\"element\":\"H\",\"location\":[-1.3122241063334594,-1.0215886699176162,-0.6880214768897321]}],\"bonds\":[{\"atoms\":[5,4],\"order\":1},{\"atoms\":[7,4],\"order\":1},{\"atoms\":[4,6],\"order\":1},{\"atoms\":[2,0],\"order\":1},{\"atoms\":[0,1],\"order\":1},{\"atoms\":[0,3],\"order\":1}],\"formula\":\"C2H3F3\",\"molecular_weight\":84.04042960000001,\"units\":{\"molecular_weight\":\"g / mol\"}});\n\n               $d.resizable({\n                   aspectRatio: 200 / 150,\n                   resize: function (evt, ui) {\n                       $d.imolecule.renderer.setSize(ui.size.width,\n                                                     ui.size.height);\n                   }\n               });\n           });\n           </script></div></div>"
     },
     "metadata": {},
     "output_type": "display_data"
    }
   ],
   "source": [
    "def renderGeneration(polymorphs, shader='basic'):\n",
    "    shader = \"basic\"\n",
    "    renders = (imolecule.draw(p.gzmat_string, format='gzmat', size=(200, 150), shader=shader, display_html=False) \\\n",
    "           for p in polymorphs)\n",
    "    columns = ('<div class=\"col-xs-6 col-sm-3\">{}</div>'.format(r) for r in renders)\n",
    "    display(HTML('<div class=\"row\">{}</div>'.format(\"\".join(columns))))"
   ]
  },
  {
   "cell_type": "code",
   "execution_count": null,
   "outputs": [],
   "source": [],
   "metadata": {
    "collapsed": false,
    "pycharm": {
     "name": "#%%\n"
    }
   }
  },
  {
   "cell_type": "code",
   "execution_count": 4,
   "metadata": {
    "pycharm": {
     "is_executing": false
    }
   },
   "outputs": [],
   "source": []
  },
  {
   "cell_type": "code",
   "execution_count": 5,
   "metadata": {
    "pycharm": {
     "is_executing": false
    }
   },
   "outputs": [],
   "source": []
  }
 ],
 "metadata": {
  "kernelspec": {
   "display_name": "Python 3",
   "language": "python",
   "name": "python3"
  },
  "language_info": {
   "codemirror_mode": {
    "name": "ipython",
    "version": 3
   },
   "file_extension": ".py",
   "mimetype": "text/x-python",
   "name": "python",
   "nbconvert_exporter": "python",
   "pygments_lexer": "ipython3",
   "version": "3.7.5"
  },
  "pycharm": {
   "stem_cell": {
    "cell_type": "raw",
    "source": [],
    "metadata": {
     "collapsed": false
    }
   }
  }
 },
 "nbformat": 4,
 "nbformat_minor": 2
}