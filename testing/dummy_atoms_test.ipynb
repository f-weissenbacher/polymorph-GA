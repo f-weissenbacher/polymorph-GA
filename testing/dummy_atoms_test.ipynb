{
 "cells": [
  {
   "cell_type": "code",
   "execution_count": 40,
   "metadata": {
    "pycharm": {
     "is_executing": true
    }
   },
   "outputs": [],
   "source": [
    "import chemcoord as cc\n",
    "import os\n",
    "import pybel\n",
    "import imolecule\n",
    "pybel.ipython_3d = True\n",
    "from os.path import join\n",
    "\n",
    "work_dir = \"/home/fawi/PycharmProjects/Polymorph-GA/testing\"\n",
    "molecules_dir = \"/home/fawi/PycharmProjects/Polymorph-GA/molecules\"\n",
    "os.chdir(work_dir)\n",
    "\n",
    "cc.settings['defaults']['viewer'] = 'ase-gui'"
   ]
  },
  {
   "cell_type": "code",
   "execution_count": 29,
   "metadata": {},
   "outputs": [],
   "source": [
    "def draw(molecule):\n",
    "    imolecule.draw(molecule.to_xyz(), shader=\"lambert\", format='xyz')"
   ]
  },
  {
   "cell_type": "code",
   "execution_count": 30,
   "metadata": {
    "pycharm": {
     "name": "#%%\n"
    }
   },
   "outputs": [],
   "source": [
    "molecule = cc.Cartesian.read_xyz(join(molecules_dir,\"dihedral_tm1.xyz\"))"
   ]
  },
  {
   "cell_type": "code",
   "execution_count": 31,
   "metadata": {},
   "outputs": [
    {
     "data": {
      "text/html": [
       "<div id=\"molecule_5b172102-ce93-4abd-bdb5-f47301b980c3\"></div>\n",
       "           <script type=\"text/javascript\">\n",
       "           require.config({baseUrl: '/',\n",
       "                           paths: {imolecule: ['nbextensions/imolecule.min', 'https://rawgit.com/patrickfuller/imolecule/master/imolecule/js/build/imolecule.min']}});\n",
       "           require(['imolecule'], function () {\n",
       "               var $d = $('#molecule_5b172102-ce93-4abd-bdb5-f47301b980c3');\n",
       "               $d.width(400); $d.height(300);\n",
       "               $d.imolecule = jQuery.extend({}, imolecule);\n",
       "               $d.imolecule.create($d, {drawingType: 'ball and stick',\n",
       "                                        cameraType: 'perspective',\n",
       "                                        shader: 'lambert',\n",
       "                                        showSave: false});\n",
       "               $d.imolecule.addElements({});\n",
       "               $d.imolecule.draw({\"atoms\":[{\"charge\":-0.09795290621480514,\"element\":\"Cl\",\"location\":[-1.6741872500000001,-0.11587150000000002,0.029907750000000004]},{\"charge\":0.1866150190781823,\"element\":\"C\",\"location\":[-0.48789425,0.35570050000000003,-0.00996925]},{\"charge\":0.07320064877941289,\"element\":\"S\",\"location\":[0.7672557500000001,0.34084050000000005,-0.00996925]},{\"charge\":-0.16186276164279007,\"element\":\"F\",\"location\":[1.3948257499999999,-0.5806695000000001,-0.00996925]}],\"bonds\":[{\"atoms\":[1,2],\"order\":1},{\"atoms\":[1,0],\"order\":1},{\"atoms\":[2,3],\"order\":1}],\"formula\":\"CClFS\",\"molecular_weight\":98.5271032,\"units\":{\"molecular_weight\":\"g / mol\"}});$d.resizable({\n",
       "                   aspectRatio: 400 / 300,\n",
       "                   resize: function (evt, ui) {\n",
       "                       $d.imolecule.renderer.setSize(ui.size.width,\n",
       "                                                     ui.size.height);\n",
       "                   }\n",
       "               }); }); </script>"
      ],
      "text/plain": [
       "<IPython.core.display.HTML object>"
      ]
     },
     "metadata": {},
     "output_type": "display_data"
    }
   ],
   "source": [
    "draw(molecule)"
   ]
  },
  {
   "cell_type": "code",
   "execution_count": 32,
   "metadata": {
    "pycharm": {
     "name": "#%%\n"
    }
   },
   "outputs": [
    {
     "name": "stderr",
     "output_type": "stream",
     "text": [
      "/home/fawi/Tools/miniconda3/envs/conda-ga/lib/python3.7/site-packages/chemcoord/cartesian_coordinates/_cartesian_class_get_zmat.py:747: DeprecationWarning: Will be removed in the future. Please use give_zmat.\n",
      "  warnings.warn(message, DeprecationWarning)\n"
     ]
    }
   ],
   "source": [
    "zmat = molecule.to_zmat()"
   ]
  },
  {
   "cell_type": "code",
   "execution_count": 33,
   "metadata": {},
   "outputs": [
    {
     "data": {
      "text/html": [
       "<div>\n",
       "<style scoped>\n",
       "    .dataframe tbody tr th:only-of-type {\n",
       "        vertical-align: middle;\n",
       "    }\n",
       "\n",
       "    .dataframe tbody tr th {\n",
       "        vertical-align: top;\n",
       "    }\n",
       "\n",
       "    .dataframe thead th {\n",
       "        text-align: right;\n",
       "    }\n",
       "</style>\n",
       "<table border=\"1\" class=\"dataframe\">\n",
       "  <caption>Zmat</caption>\n",
       "<thead>\n",
       "    <tr style=\"text-align: right;\">\n",
       "      <th></th>\n",
       "      <th>atom</th>\n",
       "      <th>b</th>\n",
       "      <th>bond</th>\n",
       "      <th>a</th>\n",
       "      <th>angle</th>\n",
       "      <th>d</th>\n",
       "      <th>dihedral</th>\n",
       "    </tr>\n",
       "  </thead>\n",
       "  <tbody>\n",
       "    <tr>\n",
       "      <th>1</th>\n",
       "      <td>C</td>\n",
       "      <td>$\\vec{0}$</td>\n",
       "      <td>0.829692</td>\n",
       "      <td>$\\vec{e_z}$</td>\n",
       "      <td>90.000000</td>\n",
       "      <td>$\\vec{e_x}$</td>\n",
       "      <td>-166.533222</td>\n",
       "    </tr>\n",
       "    <tr>\n",
       "      <th>2</th>\n",
       "      <td>S</td>\n",
       "      <td>1</td>\n",
       "      <td>1.255238</td>\n",
       "      <td>$\\vec{e_z}$</td>\n",
       "      <td>51.744524</td>\n",
       "      <td>$\\vec{e_x}$</td>\n",
       "      <td>-8.600558</td>\n",
       "    </tr>\n",
       "    <tr>\n",
       "      <th>0</th>\n",
       "      <td>Cl</td>\n",
       "      <td>1</td>\n",
       "      <td>1.277209</td>\n",
       "      <td>2</td>\n",
       "      <td>157.575187</td>\n",
       "      <td>$\\vec{e_x}$</td>\n",
       "      <td>175.305324</td>\n",
       "    </tr>\n",
       "    <tr>\n",
       "      <th>3</th>\n",
       "      <td>F</td>\n",
       "      <td>2</td>\n",
       "      <td>1.114910</td>\n",
       "      <td>1</td>\n",
       "      <td>124.934090</td>\n",
       "      <td>0</td>\n",
       "      <td>-4.694676</td>\n",
       "    </tr>\n",
       "  </tbody>\n",
       "</table>\n",
       "</div>"
      ],
      "text/plain": [
       "  atom       b      bond    a       angle    d    dihedral\n",
       "1    C  origin  0.829692  e_z   90.000000  e_x -166.533222\n",
       "2    S       1  1.255238  e_z   51.744524  e_x   -8.600558\n",
       "0   Cl       1  1.277209    2  157.575187  e_x  175.305324\n",
       "3    F       2  1.114910    1  124.934090    0   -4.694676"
      ]
     },
     "execution_count": 33,
     "metadata": {},
     "output_type": "execute_result"
    }
   ],
   "source": [
    "zmat"
   ]
  },
  {
   "cell_type": "code",
   "execution_count": 34,
   "metadata": {
    "pycharm": {
     "name": "#%%\n"
    }
   },
   "outputs": [
    {
     "name": "stderr",
     "output_type": "stream",
     "text": [
      "/home/fawi/Tools/miniconda3/envs/conda-ga/lib/python3.7/site-packages/chemcoord/internal_coordinates/_zmat_class_core.py:537: UserWarning: For the dihedral reference of atom 3 the dummy atom 4 was inserted\n",
      "  warnings.warn(give_message(i=i, dummy_d=dummy_d), UserWarning)\n"
     ]
    }
   ],
   "source": [
    "zmat.safe_loc[0,'angle'] = 180"
   ]
  },
  {
   "cell_type": "code",
   "execution_count": 35,
   "metadata": {},
   "outputs": [
    {
     "data": {
      "text/html": [
       "<div>\n",
       "<style scoped>\n",
       "    .dataframe tbody tr th:only-of-type {\n",
       "        vertical-align: middle;\n",
       "    }\n",
       "\n",
       "    .dataframe tbody tr th {\n",
       "        vertical-align: top;\n",
       "    }\n",
       "\n",
       "    .dataframe thead th {\n",
       "        text-align: right;\n",
       "    }\n",
       "</style>\n",
       "<table border=\"1\" class=\"dataframe\">\n",
       "  <caption>Zmat</caption>\n",
       "<thead>\n",
       "    <tr style=\"text-align: right;\">\n",
       "      <th></th>\n",
       "      <th>atom</th>\n",
       "      <th>b</th>\n",
       "      <th>bond</th>\n",
       "      <th>a</th>\n",
       "      <th>angle</th>\n",
       "      <th>d</th>\n",
       "      <th>dihedral</th>\n",
       "    </tr>\n",
       "  </thead>\n",
       "  <tbody>\n",
       "    <tr>\n",
       "      <th>1</th>\n",
       "      <td>C</td>\n",
       "      <td>$\\vec{0}$</td>\n",
       "      <td>0.829692</td>\n",
       "      <td>$\\vec{e_z}$</td>\n",
       "      <td>90.000000</td>\n",
       "      <td>$\\vec{e_x}$</td>\n",
       "      <td>-166.533222</td>\n",
       "    </tr>\n",
       "    <tr>\n",
       "      <th>2</th>\n",
       "      <td>S</td>\n",
       "      <td>1</td>\n",
       "      <td>1.255238</td>\n",
       "      <td>$\\vec{e_z}$</td>\n",
       "      <td>51.744524</td>\n",
       "      <td>$\\vec{e_x}$</td>\n",
       "      <td>-8.600558</td>\n",
       "    </tr>\n",
       "    <tr>\n",
       "      <th>0</th>\n",
       "      <td>Cl</td>\n",
       "      <td>1</td>\n",
       "      <td>1.277209</td>\n",
       "      <td>2</td>\n",
       "      <td>180.000000</td>\n",
       "      <td>$\\vec{e_x}$</td>\n",
       "      <td>175.305324</td>\n",
       "    </tr>\n",
       "    <tr>\n",
       "      <th>4</th>\n",
       "      <td>X</td>\n",
       "      <td>1</td>\n",
       "      <td>1.000000</td>\n",
       "      <td>2</td>\n",
       "      <td>90.000000</td>\n",
       "      <td>$\\vec{e_x}$</td>\n",
       "      <td>175.305324</td>\n",
       "    </tr>\n",
       "    <tr>\n",
       "      <th>3</th>\n",
       "      <td>F</td>\n",
       "      <td>2</td>\n",
       "      <td>1.114910</td>\n",
       "      <td>1</td>\n",
       "      <td>124.934090</td>\n",
       "      <td>4</td>\n",
       "      <td>-4.694676</td>\n",
       "    </tr>\n",
       "  </tbody>\n",
       "</table>\n",
       "</div>"
      ],
      "text/plain": [
       "  atom       b      bond    a       angle    d    dihedral\n",
       "1    C  origin  0.829692  e_z   90.000000  e_x -166.533222\n",
       "2    S       1  1.255238  e_z   51.744524  e_x   -8.600558\n",
       "0   Cl       1  1.277209    2  180.000000  e_x  175.305324\n",
       "4    X       1  1.000000    2   90.000000  e_x  175.305324\n",
       "3    F       2  1.114910    1  124.934090    4   -4.694676"
      ]
     },
     "execution_count": 35,
     "metadata": {},
     "output_type": "execute_result"
    }
   ],
   "source": [
    "zmat"
   ]
  },
  {
   "cell_type": "code",
   "execution_count": 41,
   "metadata": {},
   "outputs": [],
   "source": [
    "zmat.get_cartesian().view()"
   ]
  },
  {
   "cell_type": "code",
   "execution_count": 47,
   "metadata": {},
   "outputs": [
    {
     "name": "stderr",
     "output_type": "stream",
     "text": [
      "/home/fawi/Tools/miniconda3/envs/conda-ga/lib/python3.7/site-packages/chemcoord/internal_coordinates/_zmat_class_core.py:605: UserWarning: The dummy atoms [3] were removed\n",
      "  UserWarning)\n"
     ]
    }
   ],
   "source": [
    "zmat.safe_loc[0,'angle'] = 150"
   ]
  },
  {
   "cell_type": "code",
   "execution_count": 37,
   "metadata": {},
   "outputs": [
    {
     "data": {
      "text/html": [
       "<div id=\"molecule_3f20c4bc-a164-455e-80fd-5ae0e8ec1406\"></div>\n",
       "           <script type=\"text/javascript\">\n",
       "           require.config({baseUrl: '/',\n",
       "                           paths: {imolecule: ['nbextensions/imolecule.min', 'https://rawgit.com/patrickfuller/imolecule/master/imolecule/js/build/imolecule.min']}});\n",
       "           require(['imolecule'], function () {\n",
       "               var $d = $('#molecule_3f20c4bc-a164-455e-80fd-5ae0e8ec1406');\n",
       "               $d.width(400); $d.height(300);\n",
       "               $d.imolecule = jQuery.extend({}, imolecule);\n",
       "               $d.imolecule.create($d, {drawingType: 'ball and stick',\n",
       "                                        cameraType: 'perspective',\n",
       "                                        shader: 'lambert',\n",
       "                                        showSave: false});\n",
       "               $d.imolecule.addElements({});\n",
       "               $d.imolecule.draw({\"atoms\":[{\"element\":\"Cl\",\"location\":[-1.6469094,0.40165700000000004,-0.0163692]},{\"element\":\"C\",\"location\":[-0.3697904,0.3865370000000001,-0.0163692]},{\"element\":\"S\",\"location\":[0.8853596,0.3716770000000001,-0.0163692]},{\"element\":\"F\",\"location\":[1.5129295999999999,-0.549833,-0.0163692]},{\"element\":\"Xx\",\"location\":[-0.3815894,-0.6100379999999999,0.0654768]}],\"bonds\":[{\"atoms\":[0,1],\"order\":1},{\"atoms\":[1,2],\"order\":1},{\"atoms\":[2,3],\"order\":1}],\"formula\":\"CClFSXx\",\"molecular_weight\":98.5271032,\"units\":{\"molecular_weight\":\"g / mol\"}});$d.resizable({\n",
       "                   aspectRatio: 400 / 300,\n",
       "                   resize: function (evt, ui) {\n",
       "                       $d.imolecule.renderer.setSize(ui.size.width,\n",
       "                                                     ui.size.height);\n",
       "                   }\n",
       "               }); }); </script>"
      ],
      "text/plain": [
       "<IPython.core.display.HTML object>"
      ]
     },
     "metadata": {},
     "output_type": "display_data"
    }
   ],
   "source": [
    "draw(zmat.get_cartesian())"
   ]
  },
  {
   "cell_type": "code",
   "execution_count": 38,
   "metadata": {},
   "outputs": [],
   "source": [
    "zmat.safe_loc[3,'dihedral'] = -45"
   ]
  },
  {
   "cell_type": "code",
   "execution_count": 39,
   "metadata": {},
   "outputs": [
    {
     "data": {
      "text/html": [
       "<div id=\"molecule_ade2cc13-6f57-4cc0-84dc-996d88b0dec0\"></div>\n",
       "           <script type=\"text/javascript\">\n",
       "           require.config({baseUrl: '/',\n",
       "                           paths: {imolecule: ['nbextensions/imolecule.min', 'https://rawgit.com/patrickfuller/imolecule/master/imolecule/js/build/imolecule.min']}});\n",
       "           require(['imolecule'], function () {\n",
       "               var $d = $('#molecule_ade2cc13-6f57-4cc0-84dc-996d88b0dec0');\n",
       "               $d.width(400); $d.height(300);\n",
       "               $d.imolecule = jQuery.extend({}, imolecule);\n",
       "               $d.imolecule.create($d, {drawingType: 'ball and stick',\n",
       "                                        cameraType: 'perspective',\n",
       "                                        shader: 'lambert',\n",
       "                                        showSave: false});\n",
       "               $d.imolecule.addElements({});\n",
       "               $d.imolecule.draw({\"atoms\":[{\"element\":\"Cl\",\"location\":[-1.6474232,0.358264,0.10187900000000001]},{\"element\":\"C\",\"location\":[-0.3703042,0.34314400000000006,0.10187900000000001]},{\"element\":\"S\",\"location\":[0.8848458000000001,0.3282840000000001,0.10187900000000001]},{\"element\":\"F\",\"location\":[1.5149848000000001,-0.37626099999999996,-0.489362]},{\"element\":\"Xx\",\"location\":[-0.3821032,-0.6534309999999999,0.18372500000000003]}],\"bonds\":[{\"atoms\":[3,2],\"order\":1},{\"atoms\":[0,1],\"order\":1},{\"atoms\":[1,2],\"order\":1}],\"formula\":\"CClFSXx\",\"molecular_weight\":98.5271032,\"units\":{\"molecular_weight\":\"g / mol\"}});$d.resizable({\n",
       "                   aspectRatio: 400 / 300,\n",
       "                   resize: function (evt, ui) {\n",
       "                       $d.imolecule.renderer.setSize(ui.size.width,\n",
       "                                                     ui.size.height);\n",
       "                   }\n",
       "               }); }); </script>"
      ],
      "text/plain": [
       "<IPython.core.display.HTML object>"
      ]
     },
     "metadata": {},
     "output_type": "display_data"
    }
   ],
   "source": [
    "draw(zmat.get_cartesian())"
   ]
  },
  {
   "cell_type": "code",
   "execution_count": null,
   "metadata": {},
   "outputs": [],
   "source": []
  }
 ],
 "metadata": {
  "kernelspec": {
   "display_name": "Python 3",
   "language": "python",
   "name": "python3"
  },
  "language_info": {
   "codemirror_mode": {
    "name": "ipython",
    "version": 3
   },
   "file_extension": ".py",
   "mimetype": "text/x-python",
   "name": "python",
   "nbconvert_exporter": "python",
   "pygments_lexer": "ipython3",
   "version": "3.7.5"
  },
  "pycharm": {
   "stem_cell": {
    "cell_type": "raw",
    "metadata": {
     "collapsed": false
    },
    "source": []
   }
  }
 },
 "nbformat": 4,
 "nbformat_minor": 1
}
