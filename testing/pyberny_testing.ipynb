{
 "cells": [
  {
   "cell_type": "code",
   "execution_count": 1,
   "metadata": {
    "pycharm": {
     "is_executing": false
    }
   },
   "outputs": [],
   "source": [
    "from pyscf import gto, scf\n",
    "#from pyscf.geomopt.berny_solver import optimize\n",
    "import time\n",
    "\n",
    "import ase\n",
    "from ase import visualize,data"
   ]
  },
  {
   "cell_type": "code",
   "execution_count": 2,
   "metadata": {},
   "outputs": [],
   "source": [
    "molecule = ase.io.read(\"../molecules/testmolecule_1.xyz\")"
   ]
  },
  {
   "cell_type": "code",
   "execution_count": 3,
   "metadata": {},
   "outputs": [],
   "source": [
    "atom_list = []\n",
    "for k, xyz in zip(molecule.get_atomic_numbers(), molecule.get_positions()):\n",
    "    element = ase.data.chemical_symbols[k]\n",
    "    atom_list.append([element, tuple(xyz)])"
   ]
  },
  {
   "cell_type": "code",
   "execution_count": 4,
   "metadata": {},
   "outputs": [
    {
     "data": {
      "text/plain": [
       "[['C', (-1.7839, -0.27198, 0.00834)],\n",
       " ['C', (-0.51952, 0.54566, -0.00423)],\n",
       " ['H', (-2.64596, 0.38495, 0.1534)],\n",
       " ['H', (-1.74954, -0.98835, 0.833)],\n",
       " ['H', (-1.88892, -0.79749, -0.9437)],\n",
       " ['C', (0.79002, -0.23963, -0.0434)],\n",
       " ['N', (1.94239, 0.66569, 0.06584)],\n",
       " ['H', (1.84264, 1.20142, 0.93153)],\n",
       " ['H', (1.84355, 1.38174, -0.65966)],\n",
       " ['H', (0.8433, -0.78856, -0.98788)],\n",
       " ['H', (0.80663, -0.94752, 0.7901)],\n",
       " ['O', (-0.55339, 1.77772, -0.00996)]]"
      ]
     },
     "execution_count": 4,
     "metadata": {},
     "output_type": "execute_result"
    }
   ],
   "source": [
    "atom_list"
   ]
  },
  {
   "cell_type": "code",
   "execution_count": 5,
   "metadata": {
    "pycharm": {
     "is_executing": false
    }
   },
   "outputs": [
    {
     "data": {
      "text/plain": [
       "<pyscf.gto.mole.Mole at 0x7f38690f7a10>"
      ]
     },
     "execution_count": 5,
     "metadata": {},
     "output_type": "execute_result"
    }
   ],
   "source": [
    "mol = gto.Mole()\n",
    "mol.atom = atom_list\n",
    "mol.basis='sto-3g'\n",
    "#mol.unit='Angstrom'\n",
    "mol.build()\n",
    "#mf = scf.RHF(mol)"
   ]
  },
  {
   "cell_type": "code",
   "execution_count": 7,
   "metadata": {},
   "outputs": [
    {
     "data": {
      "text/plain": [
       "array([[-1.7839 , -0.27198,  0.00834],\n",
       "       [-0.51952,  0.54566, -0.00423],\n",
       "       [-2.64596,  0.38495,  0.1534 ],\n",
       "       [-1.74954, -0.98835,  0.833  ],\n",
       "       [-1.88892, -0.79749, -0.9437 ],\n",
       "       [ 0.79002, -0.23963, -0.0434 ],\n",
       "       [ 1.94239,  0.66569,  0.06584],\n",
       "       [ 1.84264,  1.20142,  0.93153],\n",
       "       [ 1.84355,  1.38174, -0.65966],\n",
       "       [ 0.8433 , -0.78856, -0.98788],\n",
       "       [ 0.80663, -0.94752,  0.7901 ],\n",
       "       [-0.55339,  1.77772, -0.00996]])"
      ]
     },
     "execution_count": 7,
     "metadata": {},
     "output_type": "execute_result"
    }
   ],
   "source": [
    "mol.atom_coords() / 1.889726122540501"
   ]
  },
  {
   "cell_type": "code",
   "execution_count": null,
   "metadata": {},
   "outputs": [],
   "source": [
    "-3.37108243 / -1.78390"
   ]
  },
  {
   "cell_type": "code",
   "execution_count": null,
   "metadata": {
    "pycharm": {
     "is_executing": false
    }
   },
   "outputs": [],
   "source": [
    "t1 = time.time()\n",
    "mol_eq = optimize(mf)\n",
    "t2 = time.time()\n",
    "print(f\"Total runtime for optimization: {t2 - t1:.3f} s\")"
   ]
  },
  {
   "cell_type": "code",
   "execution_count": null,
   "metadata": {
    "pycharm": {
     "is_executing": false
    }
   },
   "outputs": [],
   "source": [
    "print(mol_eq.atom_coords())"
   ]
  },
  {
   "cell_type": "code",
   "execution_count": null,
   "metadata": {},
   "outputs": [],
   "source": [
    "print(mol.atom_coords())"
   ]
  },
  {
   "cell_type": "code",
   "execution_count": null,
   "metadata": {},
   "outputs": [],
   "source": [
    "mol_eq.atom"
   ]
  },
  {
   "cell_type": "code",
   "execution_count": null,
   "metadata": {},
   "outputs": [],
   "source": [
    "import ase\n",
    "from ase import visualize"
   ]
  },
  {
   "cell_type": "code",
   "execution_count": null,
   "metadata": {},
   "outputs": [],
   "source": [
    "mol_eq.elements"
   ]
  },
  {
   "cell_type": "code",
   "execution_count": null,
   "metadata": {},
   "outputs": [],
   "source": [
    "atoms = ase.Atoms(mol_eq.elements, mol_eq.atom_coords())"
   ]
  },
  {
   "cell_type": "code",
   "execution_count": null,
   "metadata": {},
   "outputs": [],
   "source": [
    "atoms"
   ]
  },
  {
   "cell_type": "code",
   "execution_count": null,
   "metadata": {},
   "outputs": [],
   "source": [
    "ase.visualize.view(atoms)"
   ]
  },
  {
   "cell_type": "code",
   "execution_count": null,
   "metadata": {},
   "outputs": [],
   "source": [
    "atoms_preopt = ase.Atoms(mol.elements, mol.atom_coords())"
   ]
  },
  {
   "cell_type": "code",
   "execution_count": null,
   "metadata": {},
   "outputs": [],
   "source": [
    "ase.visualize.view(atoms_preopt)"
   ]
  },
  {
   "cell_type": "code",
   "execution_count": null,
   "metadata": {},
   "outputs": [],
   "source": []
  }
 ],
 "metadata": {
  "kernelspec": {
   "display_name": "Python 3",
   "language": "python",
   "name": "python3"
  },
  "language_info": {
   "codemirror_mode": {
    "name": "ipython",
    "version": 3
   },
   "file_extension": ".py",
   "mimetype": "text/x-python",
   "name": "python",
   "nbconvert_exporter": "python",
   "pygments_lexer": "ipython3",
   "version": "3.7.5"
  },
  "pycharm": {
   "stem_cell": {
    "cell_type": "raw",
    "metadata": {
     "collapsed": false
    },
    "source": []
   }
  }
 },
 "nbformat": 4,
 "nbformat_minor": 1
}
